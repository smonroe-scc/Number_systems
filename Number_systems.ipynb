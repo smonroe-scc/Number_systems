{
 "cells": [
  {
   "cell_type": "code",
   "execution_count": 1,
   "metadata": {},
   "outputs": [
    {
     "name": "stdout",
     "output_type": "stream",
     "text": [
      "Populating the interactive namespace from numpy and matplotlib\n",
      "Author        : S Monroe\n",
      "Version       : 3.6.3 | packaged by conda-forge | (default, Dec  9 2017, 16:22:46)\n",
      "Symbolic lib  : 1.1.1\n",
      "Encoding      : utf-8\n",
      "Timestamp     : 1513447517.932526\n"
     ]
    }
   ],
   "source": [
    "%pylab inline\n",
    "from sympy import *\n",
    "from sympy.logic.boolalg import truth_table\n",
    "import sympy as sp\n",
    "import time\n",
    "\n",
    "#hextime=float.hex(time.time())\n",
    "\n",
    "a, b, x, y, z, t = symbols('a b x y z t')\n",
    "k, m, n = symbols('k m n', integer=True)\n",
    "f, g, h = symbols('f g h', cls=Function)\n",
    "\n",
    "\n",
    "init_printing()\n",
    "\n",
    "print(\"Author        : S Monroe\")\n",
    "print(\"Version       :\",sys.version[0:66])\n",
    "print(\"Symbolic lib  :\",sp.__version__)\n",
    "print(\"Encoding      :\",sys.getdefaultencoding())\n",
    "print(\"Timestamp     :\",time.time())"
   ]
  },
  {
   "cell_type": "markdown",
   "metadata": {},
   "source": [
    "## Base 10 numbers"
   ]
  },
  {
   "cell_type": "markdown",
   "metadata": {},
   "source": [
    "When you count, what takes place? You use the following symbols ...<br>\n",
    "<code>0</code><br>\n",
    "<code>1</code><br>\n",
    "<code>2</code><br>\n",
    "<code>3</code><br>\n",
    "<code>4</code><br>\n",
    "<code>5</code><br>\n",
    "<code>6</code><br>\n",
    "<code>7</code><br>\n",
    "<code>8</code><br>\n",
    "<code>9</code><br>\n",
    "<br>\n",
    "... and then you (probably without thinking about it) execute a carry ...\n",
    "<code>10</code><br>\n",
    "<code>11</code><br>\n",
    "<code>12</code><br>\n",
    "<code>13</code><br>\n",
    "<code>14</code><br>\n",
    "<code>15</code><br>\n",
    "<code>16</code><br>\n",
    "<code>17</code><br>\n",
    "<code>18</code><br>\n",
    "<code>19</code><br>\n",
    "<code>20</code><br>\n",
    "... and increment the left most symbol and start over ... this will continue until ...<br>\n",
    "<code>99</code><br>\n",
    "<code>100</code><br>\n",
    "... and so on ... since the $base_{10}$ number system is open ended, this can continue ad infinitum ..."
   ]
  },
  {
   "cell_type": "markdown",
   "metadata": {},
   "source": [
    "Let's look at what is really going on though.  In the case of ...<br>\n",
    "<code>0</code><br>\n",
    "<code>1</code><br>\n",
    "<code>2</code><br>\n",
    "<code>3</code><br>\n",
    "<code>4</code><br>\n",
    "<code>5</code><br>\n",
    "<code>6</code><br>\n",
    "<code>7</code><br>\n",
    "<code>8</code><br>\n",
    "<code>9</code><br>\n",
    "<br>\n",
    "... what you are really doing is this:"
   ]
  },
  {
   "cell_type": "code",
   "execution_count": 2,
   "metadata": {},
   "outputs": [
    {
     "name": "stdout",
     "output_type": "stream",
     "text": [
      "0 1 2 3 4 5 6 7 8 9\n"
     ]
    }
   ],
   "source": [
    "base=10\n",
    "\n",
    "a_0=0*(base**0)\n",
    "a_1=1*(base**0)\n",
    "a_2=2*(base**0)\n",
    "a_3=3*(base**0)\n",
    "a_4=4*(base**0)\n",
    "a_5=5*(base**0)\n",
    "a_6=6*(base**0)\n",
    "a_7=7*(base**0)\n",
    "a_8=8*(base**0)\n",
    "a_9=9*(base**0)\n",
    "print(a_0, a_1, a_2, a_3, a_4, a_5, a_6, a_7, a_8, a_9)"
   ]
  },
  {
   "cell_type": "markdown",
   "metadata": {},
   "source": [
    "keep in mind that<br><br>$$10^0=1$$... that is,"
   ]
  },
  {
   "cell_type": "code",
   "execution_count": 3,
   "metadata": {},
   "outputs": [
    {
     "name": "stdout",
     "output_type": "stream",
     "text": [
      "1\n"
     ]
    }
   ],
   "source": [
    "m_0=base**0\n",
    "print(m_0)"
   ]
  },
  {
   "cell_type": "markdown",
   "metadata": {},
   "source": [
    "... the reason is that this **right most** position is weighted to be,<br><br>\n",
    "$$n \\times 10^0$$<br><br>\n",
    "where $n=0 \\rightarrow 9$<br><br>\n",
    "But what happens when you arrive at the $10th$ symbol ... i.e., $9$ ...?  It is a $base_{10}$ system after all ..."
   ]
  },
  {
   "cell_type": "markdown",
   "metadata": {},
   "source": [
    "_Answer:_ carry a symbol to the _left_ and change the weighting in the exponent of $10$ to be<br><br> $$n \\times 10^1$$<br><br>"
   ]
  },
  {
   "cell_type": "markdown",
   "metadata": {},
   "source": [
    "Note that $$10^1=10$$ that is ..."
   ]
  },
  {
   "cell_type": "code",
   "execution_count": 4,
   "metadata": {},
   "outputs": [
    {
     "name": "stdout",
     "output_type": "stream",
     "text": [
      "10\n"
     ]
    }
   ],
   "source": [
    "m_1=10**1\n",
    "print(m_1)"
   ]
  },
  {
   "cell_type": "code",
   "execution_count": 5,
   "metadata": {},
   "outputs": [
    {
     "name": "stdout",
     "output_type": "stream",
     "text": [
      "0 10 20 30 40 50 60 70 80 90\n"
     ]
    }
   ],
   "source": [
    "base=10\n",
    "\n",
    "a_0=0*(base**1)\n",
    "a_1=1*(base**1)\n",
    "a_2=2*(base**1)\n",
    "a_3=3*(base**1)\n",
    "a_4=4*(base**1)\n",
    "a_5=5*(base**1)\n",
    "a_6=6*(base**1)\n",
    "a_7=7*(base**1)\n",
    "a_8=8*(base**1)\n",
    "a_9=9*(base**1)\n",
    "print(a_0, a_1, a_2, a_3, a_4, a_5, a_6, a_7, a_8, a_9)"
   ]
  },
  {
   "cell_type": "markdown",
   "metadata": {},
   "source": [
    "This will deal with all cases all the way up to <code>99</code>, but what needs to happen now?  The answer is that, once again a carry needs to be executed and the exponent incremented.  This is because<br><br> $$10^2=100$$"
   ]
  },
  {
   "cell_type": "code",
   "execution_count": 6,
   "metadata": {},
   "outputs": [
    {
     "name": "stdout",
     "output_type": "stream",
     "text": [
      "100\n"
     ]
    }
   ],
   "source": [
    "m_2=10**2\n",
    "print(m_2)"
   ]
  },
  {
   "cell_type": "code",
   "execution_count": 7,
   "metadata": {},
   "outputs": [
    {
     "name": "stdout",
     "output_type": "stream",
     "text": [
      "0 100 200 300 400 500 600 700 800 900\n"
     ]
    }
   ],
   "source": [
    "base=10\n",
    "\n",
    "a_0=0*(base**2)\n",
    "a_1=1*(base**2)\n",
    "a_2=2*(base**2)\n",
    "a_3=3*(base**2)\n",
    "a_4=4*(base**2)\n",
    "a_5=5*(base**2)\n",
    "a_6=6*(base**2)\n",
    "a_7=7*(base**2)\n",
    "a_8=8*(base**2)\n",
    "a_9=9*(base**2)\n",
    "print(a_0, a_1, a_2, a_3, a_4, a_5, a_6, a_7, a_8, a_9)"
   ]
  },
  {
   "cell_type": "markdown",
   "metadata": {},
   "source": [
    "If we wanted to expand a number between <code>0</code> and <code>999</code>, say 221, we would do it like this"
   ]
  },
  {
   "cell_type": "code",
   "execution_count": 8,
   "metadata": {},
   "outputs": [
    {
     "name": "stdout",
     "output_type": "stream",
     "text": [
      "221\n"
     ]
    }
   ],
   "source": [
    "num=m_0*1+m_1*2+m_2*2\n",
    "print(num)"
   ]
  },
  {
   "cell_type": "markdown",
   "metadata": {},
   "source": [
    "Another example ... 643 ..."
   ]
  },
  {
   "cell_type": "code",
   "execution_count": 9,
   "metadata": {},
   "outputs": [
    {
     "name": "stdout",
     "output_type": "stream",
     "text": [
      "643\n"
     ]
    }
   ],
   "source": [
    "num=m_0*3+m_1*4+m_2*6\n",
    "print(num)"
   ]
  },
  {
   "cell_type": "markdown",
   "metadata": {},
   "source": [
    "Any $base_{10}$ number can be expressed this way.  Simply take the weighting, and multiply it by the symbol value.  Sum up all the products, and the number you want is the result."
   ]
  },
  {
   "cell_type": "markdown",
   "metadata": {},
   "source": [
    "## Base 2 numbers"
   ]
  },
  {
   "cell_type": "markdown",
   "metadata": {},
   "source": [
    "The foregoing examples were fine when there were <code>10</code> symbols available.  But what happens in the case where only <code>2</code> symbols are available, such as the <code>binary</code> number system.  In this system, only <code>0</code> and <code>1</code> are valid symbols."
   ]
  },
  {
   "cell_type": "markdown",
   "metadata": {},
   "source": [
    "Interestingly enough, it uses the exact same idea."
   ]
  },
  {
   "cell_type": "markdown",
   "metadata": {},
   "source": [
    "suppose we wish to count to <code>3</code>, but only <code>2</code> symbols are available:\n",
    "Watch this:"
   ]
  },
  {
   "cell_type": "code",
   "execution_count": 10,
   "metadata": {},
   "outputs": [],
   "source": [
    "m_0=0\n",
    "m_1=1\n",
    "m_2=2\n",
    "m_3=3\n",
    "base=2"
   ]
  },
  {
   "cell_type": "code",
   "execution_count": 11,
   "metadata": {},
   "outputs": [
    {
     "name": "stdout",
     "output_type": "stream",
     "text": [
      "3\n"
     ]
    }
   ],
   "source": [
    "b_0=1\n",
    "b_1=1\n",
    "ans=b_1*base**m_1+b_0*base**m_0\n",
    "print(ans)"
   ]
  },
  {
   "cell_type": "markdown",
   "metadata": {},
   "source": [
    "What just happened?"
   ]
  },
  {
   "cell_type": "markdown",
   "metadata": {},
   "source": [
    "Simply this:<br><br>\n",
    "$$base=2$$<br>\n",
    "$$1 \\times base^1 + 1 \\times base^0$$\n",
    "Since\n",
    "$$2^0=1$$<br>\n",
    "and<br>\n",
    "$$2^1=2$$\n",
    "then<br>\n",
    "$$1 \\times 2^1+1 \\times 2^0=3$$"
   ]
  },
  {
   "cell_type": "markdown",
   "metadata": {},
   "source": [
    "it is possible to count from <code>0</code> to <code>3</code> using two positions.  These \"_positions_\" are known as \"_bits_\" which is a shortened version of <code><b>bi</b>nary</code> <code>digi<b>ts</b></code>.  The terms we will use is that the **right most** bit is called \"_least significant bit_\" and the **left most** bit is called \"_most significant bit_\".  We will shorthand this with <b><code>LSB</code></b> and <b><code>MSB</code></b>"
   ]
  },
  {
   "cell_type": "markdown",
   "metadata": {},
   "source": [
    "In the case of our example, the MSB is 1 and the LSB is 1 which add up to <code>3</code>. Counting from <code>0</code> to <code>3</code> would look like this:"
   ]
  },
  {
   "cell_type": "markdown",
   "metadata": {},
   "source": [
    "<code>00</code>$\\rightarrow$ $0 \\times 2^1 + 0 \\times 2^0$<br>\n",
    "<code>01</code>$\\rightarrow$ $0 \\times 2^1 + 1 \\times 2^0$<br>\n",
    "<code>10</code>$\\rightarrow$ $1 \\times 2^1 + 0 \\times 2^0$<br>\n",
    "<code>11</code>$\\rightarrow$ $1 \\times 2^1 + 1 \\times 2^0$<br>"
   ]
  },
  {
   "cell_type": "markdown",
   "metadata": {},
   "source": [
    "Counting to four requires <code>3 bits</code>.  However if we use <code>3 bits</code>, we get the added bonus of being able to count <code>8</code> states.  Notice:"
   ]
  },
  {
   "cell_type": "markdown",
   "metadata": {},
   "source": [
    "<code>000</code>$\\rightarrow$ $0 \\times 2^2 + 0 \\times 2^1 + 0 \\times 2^0$<br>\n",
    "<code>001</code>$\\rightarrow$ $0 \\times 2^2 + 0 \\times 2^1 + 1 \\times 2^0$<br>\n",
    "<code>010</code>$\\rightarrow$ $0 \\times 2^2 + 1 \\times 2^1 + 0 \\times 2^0$<br>\n",
    "<code>011</code>$\\rightarrow$ $0 \\times 2^2 + 1 \\times 2^1 + 1 \\times 2^0$<br>\n",
    "<code>100</code>$\\rightarrow$ $1 \\times 2^2 + 0 \\times 2^1 + 0 \\times 2^0$<br>\n",
    "<code>101</code>$\\rightarrow$ $1 \\times 2^2 + 0 \\times 2^1 + 1 \\times 2^0$<br>\n",
    "<code>110</code>$\\rightarrow$ $1 \\times 2^2 + 1 \\times 2^1 + 0 \\times 2^0$<br>\n",
    "<code>111</code>$\\rightarrow$ $1 \\times 2^2 + 1 \\times 2^1 + 1 \\times 2^0$<br>"
   ]
  },
  {
   "cell_type": "markdown",
   "metadata": {},
   "source": [
    "Generalized, we can count $2^n$ <code>states</code> for $n$ bits, in the case of $n=3$ bits we can count $2^3=8$ <code>states</code>. In a digital system, everything is based upon <code>state</code> ...  When a bit is a <code>0</code> we say that its <code>state</code> is <code>unset</code>.  When a bit is a <code>1</code> we say that its <code>state</code> is <code>set</code>."
   ]
  },
  {
   "cell_type": "markdown",
   "metadata": {},
   "source": [
    "If we use $n=4$ we get $2^4=16$ <code>states</code> ..."
   ]
  },
  {
   "cell_type": "markdown",
   "metadata": {},
   "source": [
    "<code>0000</code>$\\rightarrow$ $0 \\times 2^3 + 0 \\times 2^2 + 0 \\times 2^1 + 0 \\times 2^0$ <br>\n",
    "<code>0001</code>$\\rightarrow$ $0 \\times 2^3 + 0 \\times 2^2 + 0 \\times 2^1 + 1 \\times 2^0$<br>\n",
    "<code>0010</code>$\\rightarrow$ $0 \\times 2^3 + 0 \\times 2^2 + 1 \\times 2^1 + 0 \\times 2^0$<br>\n",
    "<code>0011</code>$\\rightarrow$ $0 \\times 2^3 + 0 \\times 2^2 + 1 \\times 2^1 + 1 \\times 2^0$<br>\n",
    "<code>0100</code>$\\rightarrow$ $0 \\times 2^3 + 1 \\times 2^2 + 0 \\times 2^1 + 0 \\times 2^0$<br>\n",
    "<code>0101</code>$\\rightarrow$ $0 \\times 2^3 + 1 \\times 2^2 + 0 \\times 2^1 + 1 \\times 2^0$<br>\n",
    "<code>0110</code>$\\rightarrow$ $0 \\times 2^3 + 1 \\times 2^2 + 1 \\times 2^1 + 0 \\times 2^0$<br>\n",
    "<code>0111</code>$\\rightarrow$ $0 \\times 2^3 + 1 \\times 2^2 + 1 \\times 2^1 + 1 \\times 2^0$<br>\n",
    "<code>1000</code>$\\rightarrow$ $1 \\times 2^3 + 0 \\times 2^2 + 0 \\times 2^1 + 0 \\times 2^0$<br>\n",
    "<code>1001</code>$\\rightarrow$ $1 \\times 2^3 + 0 \\times 2^2 + 0 \\times 2^1 + 1 \\times 2^0$<br>\n",
    "<code>1010</code>$\\rightarrow$ $1 \\times 2^3 + 0 \\times 2^2 + 1 \\times 2^1 + 0 \\times 2^0$<br>\n",
    "<code>1011</code>$\\rightarrow$ $1 \\times 2^3 + 0 \\times 2^2 + 1 \\times 2^1 + 1 \\times 2^0$<br>\n",
    "<code>1100</code>$\\rightarrow$ $1 \\times 2^3 + 1 \\times 2^2 + 0 \\times 2^1 + 0 \\times 2^0$<br>\n",
    "<code>1101</code>$\\rightarrow$ $1 \\times 2^3 + 1 \\times 2^2 + 0 \\times 2^1 + 1 \\times 2^0$<br>\n",
    "<code>1110</code>$\\rightarrow$ $1 \\times 2^3 + 1 \\times 2^2 + 1 \\times 2^1 + 0 \\times 2^0$<br>\n",
    "<code>1111</code>$\\rightarrow$ $1 \\times 2^3 + 1 \\times 2^2 + 1 \\times 2^1 + 1 \\times 2^0$<br>\n",
    "<br>\n",
    "<code>0000</code>$\\equiv$ <code>00</code><br>\n",
    "<code>0001</code>$\\equiv$ <code>01</code><br>\n",
    "<code>0010</code>$\\equiv$ <code>02</code><br>\n",
    "<code>0011</code>$\\equiv$ <code>03</code><br>\n",
    "<code>0100</code>$\\equiv$ <code>04</code><br>\n",
    "<code>0101</code>$\\equiv$ <code>05</code><br>\n",
    "<code>0110</code>$\\equiv$ <code>06</code><br>\n",
    "<code>0111</code>$\\equiv$ <code>07</code><br>\n",
    "<code>1000</code>$\\equiv$ <code>08</code><br>\n",
    "<code>1001</code>$\\equiv$ <code>09</code><br>\n",
    "<code>1010</code>$\\equiv$ <code>10</code><br>\n",
    "<code>1011</code>$\\equiv$ <code>11</code><br>\n",
    "<code>1100</code>$\\equiv$ <code>12</code><br>\n",
    "<code>1101</code>$\\equiv$ <code>13</code><br>\n",
    "<code>1110</code>$\\equiv$ <code>14</code><br>\n",
    "<code>1111</code>$\\equiv$ <code>15</code><br>"
   ]
  },
  {
   "cell_type": "markdown",
   "metadata": {},
   "source": [
    "Note that there are <code>16</code> <code>states</code> in the foregoing table<br> <code>0000</code> is always the initial <code>state<code>"
   ]
  },
  {
   "cell_type": "markdown",
   "metadata": {},
   "source": [
    "## MEMORISE THIS SEQUENCE A.S.A.P.!!!"
   ]
  },
  {
   "cell_type": "markdown",
   "metadata": {},
   "source": [
    "If more states were desired, just add more bits.  For a system that utilizes <code>8 bits</code> the number of states is $2^8=256$ states.  As before, always initialize your count with <code>00000000</code>, and terminate the count with <code>11111111</code>. <code>8 bit</code> groupings are common in <code>IPV4</code> network protocol,  and are called <code>octets</code>. "
   ]
  },
  {
   "cell_type": "markdown",
   "metadata": {},
   "source": [
    "### Conversion: binary to decimal"
   ]
  },
  {
   "cell_type": "markdown",
   "metadata": {},
   "source": [
    "Suppose however, we are given a decimal number.  Say, decimal <code>221</code> and we wish to convert this number to its binary equivalent.  What then?"
   ]
  },
  {
   "cell_type": "markdown",
   "metadata": {},
   "source": [
    "To perform this operation, we need to recall the terms <code>MSB</code> and <code>LSB</code>.\n",
    "Recall that <code>MSB</code> is the leftmost bit, and <code>LSB</code> is rightmost. The term <code>NSB</code> will be used for \"next significant bit\" and proceeds **left to right**"
   ]
  },
  {
   "cell_type": "markdown",
   "metadata": {},
   "source": [
    "Set the <code>MSB</code> to <code>1</code> and all others to <code>0</code>.  We know we will need at least <code>1000000</code> because this value is equal to <code>128</code>.  We also know that <code>11111111</code> is equal to <code>255</code>. Since <code>221</code> falls between <code>128</code> and <code>255</code> we need an <code>8 bit</code> number."
   ]
  },
  {
   "cell_type": "markdown",
   "metadata": {},
   "source": [
    "<code>221-128=093</code> $\\rightarrow$ <code>MSB   SET</code> $\\rightarrow$ <code>10000000</code><br>\n",
    "<code>093-064=029</code> $\\rightarrow$ <code>NSB   SET</code> $\\rightarrow$ <code>11000000</code><br>\n",
    "\n",
    "The remainder is <code>029</code> but the <code>NSB</code> is weighted at <code>032</code><br>\n",
    "this bit should be <code>UNSET</code> $\\rightarrow$ <code>11<b>0</b>00000</code><br> \n",
    "The <code>NSB</code> is weighted at <code>16</code><br>\n",
    "\n",
    "<code>029-016=013</code> $\\rightarrow$ <code>NSB   SET</code> $\\rightarrow$ <code>11010000</code><br>\n",
    "<code>013-008=005</code> $\\rightarrow$ <code>NSB   SET</code> $\\rightarrow$ <code>11011000</code><br>\n",
    "<code>008-005=003</code> $\\rightarrow$ <code>NSB   SET</code> $\\rightarrow$ <code>11011100</code><br><br>\n",
    "The remainder is <code>003</code> but the <code>NSB</code> is weighted at <code>004</code><br>\n",
    "this bit should be <code>UNSET</code> $\\rightarrow$ <code>110111<b>0</b>0</code><br> \n",
    "\n",
    "<code>005-004=001</code> $\\rightarrow$ <code>NSB   SET</code> $\\rightarrow$ <code>11011101</code><br><br>\n",
    "<code>11011101</code>$\\rightarrow$ $1 \\times 2^7 + 1 \\times 2^6 + 0 \\times 2^5 + 1 \\times 2^4$ + $1 \\times 2^3$ + $1 \\times 2^2$ +  $0 \\times 2^1$ + $1 \\times 2^0$<br>\n",
    "Verify:"
   ]
  },
  {
   "cell_type": "code",
   "execution_count": 12,
   "metadata": {},
   "outputs": [
    {
     "name": "stdout",
     "output_type": "stream",
     "text": [
      "221\n"
     ]
    }
   ],
   "source": [
    "b_7=1*2**7\n",
    "b_6=1*2**6\n",
    "b_5=0*2**5\n",
    "b_4=1*2**4\n",
    "b_3=1*2**3\n",
    "b_2=1*2**2\n",
    "b_1=0*2**1\n",
    "b_0=1*2**0\n",
    "ans=b_7+b_6+b_5+b_4+b_3+b_2+b_1+b_0\n",
    "print(ans)"
   ]
  }
 ],
 "metadata": {
  "kernelspec": {
   "display_name": "Python 3",
   "language": "python",
   "name": "python3"
  },
  "language_info": {
   "codemirror_mode": {
    "name": "ipython",
    "version": 3
   },
   "file_extension": ".py",
   "mimetype": "text/x-python",
   "name": "python",
   "nbconvert_exporter": "python",
   "pygments_lexer": "ipython3",
   "version": "3.7.4"
  }
 },
 "nbformat": 4,
 "nbformat_minor": 2
}
